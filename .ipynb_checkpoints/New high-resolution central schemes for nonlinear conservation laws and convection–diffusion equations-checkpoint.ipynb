{
 "cells": [
  {
   "cell_type": "code",
   "execution_count": 468,
   "metadata": {},
   "outputs": [],
   "source": [
    "import numpy as np\n",
    "import matplotlib.pyplot as plt\n",
    "%matplotlib inline"
   ]
  },
  {
   "cell_type": "code",
   "execution_count": 494,
   "metadata": {},
   "outputs": [],
   "source": [
    "class field():\n",
    "    nghost = 2\n",
    "    def __init__(self, ncells):\n",
    "        self.ncells = ncells\n",
    "        self.cc = np.zeros(ncells+nghost)\n",
    "        self.cfVals_left = np.zeros(ncells+1)\n",
    "        self.cfVals_right = np.zeros(ncells+1)\n",
    "        self.ccVals = self.cc[0+int(0.5*nghost):-1*int(0.5*nghost)]\n",
    "        \n",
    "    def setInitCond(self,fvals):\n",
    "        self.ccVals = fvals\n",
    "        self.cc[0+int(0.5*nghost):-1*int(0.5*nghost)] = fvals\n",
    "        \n",
    "    def setGhostCellValues(self, vals):\n",
    "        if nghost == 2:\n",
    "            self.cc[0] = vals[0]\n",
    "            self.cc[-1] = vals[1]\n",
    "        else:\n",
    "            print('Changed number of ghost cells, update them!')\n",
    "\n",
    "    def computeCellFaceValues(self, ux, dx):\n",
    "        self.cfVals_left[0] = self.cc[0]\n",
    "        self.cfVals_left[1:] = self.ccVals + 0.5*dx*ux.ccVals\n",
    "        self.cfVals_right[-1] = self.cc[-1]\n",
    "        self.cfVals_right[:-2] = self.ccVals - 0.5*dx*ux.ccVals\n",
    "#------------------------------------------------------------------------------------------\n",
    "class domain:\n",
    "    def __init__(self, ncells, endpts):\n",
    "        self.ncells = ncells\n",
    "        self.xLeft = endpts[0]\n",
    "        self.xRight = endpts[1]\n",
    "        self.dx = (self.xRight - self.xLeft)/self.ncells\n",
    "        self.x_cc = np.linspace(self.xLeft+self.dx, self.xRight-self.dx, ncells)\n",
    "#-------------------------------------------------------------------------------------------\n",
    "        \n",
    "def computeUx(u, theta = 1.4):\n",
    "    return minmod((theta)*(u.cc[1:-1] - u.cc[0:-2]), (0.5)*(u.cc[2:] - u.cc[:-2]), (theta)*(u.cc[2:] - u.cc[1:-1]))\n",
    "        \n",
    "#-------------------------------------------------------------------------------------------\n",
    "def minmod(a, b, c):\n",
    "    result = np.zeros(len(a))\n",
    "    overall = np.array([a, b, c])\n",
    "    signs = np.prod(np.sign(overall),0)\n",
    "    result[signs > 0] = np.amax(overall[:, signs > 0], 0)\n",
    "    result[signs < 0] = np.amin(overall[:, signs < 0], 0)\n",
    "    return result   \n",
    "#-------------------------------------------------------------------------------------------\n",
    "def fluxFn(u_field):\n",
    "    return (0.5*u**2)\n",
    "\n",
    "#-------------------------------------------------------------------------------------------\n",
    "def computeLocalSpeed(u_field):\n",
    "    #This changes if the above function changes\n",
    "    return np.amax(np.array([u_field.cfVals_left,u_field.cfVals_right]),0)"
   ]
  },
  {
   "cell_type": "code",
   "execution_count": 490,
   "metadata": {},
   "outputs": [],
   "source": [
    "#Domain setup\n",
    "x = domain(40, np.array([-1,1]))\n",
    "\n",
    "#Field setup\n",
    "u = field(x.ncells)\n",
    "ux = field(x.ncells)\n",
    "\n",
    "#Initial conditions\n",
    "initC = lambda x: 1.0*(x < 0.5) + 1.0*(x > -0.5)\n",
    "u.setInitCond(initC(x.x_cc))\n",
    "u.setGhostCellValues(np.array([0.0,0.0]))\n"
   ]
  },
  {
   "cell_type": "code",
   "execution_count": 492,
   "metadata": {},
   "outputs": [
    {
     "name": "stdout",
     "output_type": "stream",
     "text": [
      "Time: 0.0\n"
     ]
    },
    {
     "ename": "TypeError",
     "evalue": "'field' object is not subscriptable",
     "output_type": "error",
     "traceback": [
      "\u001b[0;31m---------------------------------------------------------------------------\u001b[0m",
      "\u001b[0;31mTypeError\u001b[0m                                 Traceback (most recent call last)",
      "\u001b[0;32m<ipython-input-492-2c52c59f86df>\u001b[0m in \u001b[0;36m<module>\u001b[0;34m\u001b[0m\n\u001b[1;32m      7\u001b[0m     \u001b[0mux\u001b[0m\u001b[0;34m.\u001b[0m\u001b[0mccVals\u001b[0m \u001b[0;34m=\u001b[0m \u001b[0mcomputeUx\u001b[0m\u001b[0;34m(\u001b[0m\u001b[0mu\u001b[0m\u001b[0;34m)\u001b[0m\u001b[0;34m/\u001b[0m\u001b[0mx\u001b[0m\u001b[0;34m.\u001b[0m\u001b[0mdx\u001b[0m\u001b[0;34m\u001b[0m\u001b[0;34m\u001b[0m\u001b[0m\n\u001b[1;32m      8\u001b[0m \u001b[0;34m\u001b[0m\u001b[0m\n\u001b[0;32m----> 9\u001b[0;31m     \u001b[0mucf_r\u001b[0m\u001b[0;34m[\u001b[0m\u001b[0;34m:\u001b[0m\u001b[0;34m-\u001b[0m\u001b[0;36m1\u001b[0m\u001b[0;34m]\u001b[0m \u001b[0;34m=\u001b[0m \u001b[0mu\u001b[0m\u001b[0;34m[\u001b[0m\u001b[0;36m1\u001b[0m\u001b[0;34m:\u001b[0m\u001b[0;34m-\u001b[0m\u001b[0;36m1\u001b[0m\u001b[0;34m]\u001b[0m \u001b[0;34m-\u001b[0m \u001b[0;36m0.5\u001b[0m\u001b[0;34m*\u001b[0m\u001b[0mdx\u001b[0m\u001b[0;34m*\u001b[0m\u001b[0mux\u001b[0m\u001b[0;34m\u001b[0m\u001b[0;34m\u001b[0m\u001b[0m\n\u001b[0m\u001b[1;32m     10\u001b[0m     \u001b[0mucf_r\u001b[0m\u001b[0;34m[\u001b[0m\u001b[0;34m-\u001b[0m\u001b[0;36m1\u001b[0m\u001b[0;34m]\u001b[0m \u001b[0;34m=\u001b[0m \u001b[0mubc_r\u001b[0m\u001b[0;34m\u001b[0m\u001b[0;34m\u001b[0m\u001b[0m\n\u001b[1;32m     11\u001b[0m \u001b[0;34m\u001b[0m\u001b[0m\n",
      "\u001b[0;31mTypeError\u001b[0m: 'field' object is not subscriptable"
     ]
    },
    {
     "data": {
      "image/png": "[encoded data removed]",
      "text/plain": [
       "<Figure size 432x288 with 1 Axes>"
      ]
     },
     "metadata": {
      "needs_background": "light"
     },
     "output_type": "display_data"
    }
   ],
   "source": [
    "plt.figure()\n",
    "t = 0.0\n",
    "plt.plot(x.x_cc, u.ccVals,'b')\n",
    "while t < tFinal:\n",
    "    print(\"Time:\",t)\n",
    "    #Evaluating ux\n",
    "    ux.ccVals = computeUx(u)/x.dx  \n",
    "    u.computeCellFaceValues(ux, x.dx)\n",
    "    '''\n",
    "    ucf_r[:-1] = u[1:-1] - 0.5*dx*ux\n",
    "    ucf_r[-1] = ubc_r\n",
    "    \n",
    "    ucf_l[1:] = u[1:-1] + 0.5*dx*ux\n",
    "    ucf_l[0] = ubc_l\n",
    "    '''\n",
    "    \n",
    "    #Computing local speed\n",
    "    a = computeLocalSpeed(u)\n",
    "    #Evaluating fluxes\n",
    "    flux_jphalf = 0.5*(fluxFn(ucf_r[1:]) + fluxFn(ucf_l[1:]) - a[1:]*(ucf_r[1:] - ucf_l[1:]))\n",
    "    flux_jmhalf = 0.5*(fluxFn(ucf_r[:-1]) + fluxFn(ucf_l[:-1]) - a[:-1]*(ucf_r[:-1] - ucf_l[:-1]))\n",
    "    \n",
    "    \n",
    "    #Time integration\n",
    "    u[1:-1] = u[1:-1] - (dt/dx)*(flux_jphalf - flux_jmhalf) \n",
    "    \n",
    "    #Lax-Friedrichs scheme\n",
    "    uLxF[1:-1] = 0.5*(uLxF[2:] + uLxF[:-2]) - 0.5*(dt/dx)*(fluxFn(uLxF[2:]) - fluxFn(uLxF[:-2]))\n",
    "    \n",
    "    t = t + dt\n",
    "plt.plot(x, u[1:-1],'ro-', x,uLxF[1:-1],'g*')\n",
    "plt.show()"
   ]
  },
  {
   "cell_type": "code",
   "execution_count": null,
   "metadata": {},
   "outputs": [],
   "source": []
  },
  {
   "cell_type": "code",
   "execution_count": null,
   "metadata": {},
   "outputs": [],
   "source": []
  },
  {
   "cell_type": "code",
   "execution_count": null,
   "metadata": {},
   "outputs": [],
   "source": []
  }
 ],
 "metadata": {
  "kernelspec": {
   "display_name": "Python 3",
   "language": "python",
   "name": "python3"
  },
  "language_info": {
   "codemirror_mode": {
    "name": "ipython",
    "version": 3
   },
   "file_extension": ".py",
   "mimetype": "text/x-python",
   "name": "python",
   "nbconvert_exporter": "python",
   "pygments_lexer": "ipython3",
   "version": "3.7.3"
  }
 },
 "nbformat": 4,
 "nbformat_minor": 2
}
