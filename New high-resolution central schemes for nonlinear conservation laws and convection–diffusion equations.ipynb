{
 "cells": [
  {
   "cell_type": "code",
   "execution_count": 1,
   "metadata": {},
   "outputs": [],
   "source": [
    "import numpy as np\n",
    "import matplotlib.pyplot as plt\n",
    "%matplotlib inline"
   ]
  },
  {
   "cell_type": "code",
   "execution_count": 313,
   "metadata": {},
   "outputs": [],
   "source": [
    "class field():\n",
    "    def __init__(self, ncells, bctype):\n",
    "        self.nghost = 2\n",
    "        self.ncells = ncells\n",
    "        self.cc = np.zeros(ncells+self.nghost)\n",
    "        self.cfVals_left = np.zeros(ncells+1)\n",
    "        self.cfVals_right = np.zeros(ncells+1)\n",
    "        self.derivative = np.zeros(ncells)\n",
    "        self.a = np.zeros(ncells+1)\n",
    "        self.ccVals = self.cc[0+int(0.5*self.nghost):-1*int(0.5*self.nghost)]\n",
    "        \n",
    "        self.bc = bctype\n",
    "        \n",
    "    def setInitCond(self,f, vals):\n",
    "        self.ccVals = f(vals)\n",
    "        #self.cc[0+int(0.5*self.nghost):-1*int(0.5*self.nghost)] = self.ccVals\n",
    "        \n",
    "    def computeDerivative(self, dx, theta = 1.1):\n",
    "        self.derivative =  (1.0/dx)*minmod((theta)*(self.cc[1:-1] - self.cc[0:-2]), \\\n",
    "                                  (0.5)*(self.cc[2:] - self.cc[:-2]), \\\n",
    "                                  (theta)*(self.cc[2:] - self.cc[1:-1]))\n",
    "        \n",
    "    def updateStuff(self):\n",
    "        self.cc[0+int(0.5*self.nghost):-1*int(0.5*self.nghost)] = self.ccVals\n",
    "        if (self.bc == 'periodic'):\n",
    "            #self.setGhostCellValues(np.array([self.cc[1], self.cc[-2]]))\n",
    "            self.cc[0] = self.cc[-2]\n",
    "            self.cc[-1] = self.cc[1]\n",
    "        #else:\n",
    "        #    pass\n",
    "        \n",
    "    def setGhostCellValues(self, vals):\n",
    "        if self.nghost == 2:\n",
    "            self.cc[0] = vals[0]\n",
    "            self.cc[-1] = vals[1]\n",
    "        else:\n",
    "            print('Changed number of ghost cells, update them!')\n",
    "\n",
    "    def computeCellFaceValues(self, dx):\n",
    "        self.computeDerivative(dx)\n",
    "        self.cfVals_left[0] = self.cc[0]\n",
    "        self.cfVals_left[1:] = self.ccVals + 0.5*dx*self.derivative\n",
    "        self.cfVals_right[-1] = self.cc[-1]\n",
    "        self.cfVals_right[:-1] = self.ccVals - 0.5*dx*self.derivative\n",
    "        \n",
    "    def computeFluxes(self, dx, fluxFn, fder):\n",
    "        self.computeCellFaceValues(dx)\n",
    "        \n",
    "        self.a = computeLocalSpeed(self, fder)\n",
    "        \n",
    "        self.flux_jphalf = 0.5*(fluxFn(self.cfVals_right[1:]) + fluxFn(self.cfVals_left[1:]) \\\n",
    "                                - self.a[1:]*(self.cfVals_right[1:] - self.cfVals_left[1:]))\n",
    "        \n",
    "        self.flux_jmhalf = 0.5*(fluxFn(self.cfVals_right[:-1]) + fluxFn(self.cfVals_left[:-1]) \\\n",
    "                                - self.a[:-1]*(self.cfVals_right[:-1] - self.cfVals_left[:-1]))\n",
    "        self.FinalFlux = -(self.flux_jphalf - self.flux_jmhalf)/dx\n",
    "        \n",
    "        \n",
    "#------------------------------------------------------------------------------------------\n",
    "class domain:\n",
    "    def __init__(self, ncells, endpts):\n",
    "        self.ncells = ncells\n",
    "        self.xLeft = endpts[0]\n",
    "        self.xRight = endpts[1]\n",
    "        self.dx = (self.xRight - self.xLeft)/self.ncells\n",
    "        self.x_cc = np.linspace(self.xLeft+self.dx, self.xRight-self.dx, ncells)\n",
    "#-------------------------------------------------------------------------------------------\n",
    "                \n",
    "#-------------------------------------------------------------------------------------------\n",
    "def minmod(a, b, c):\n",
    "    result = np.zeros(len(a))\n",
    "    overall = np.array([a, b, c])\n",
    "    signs = np.prod(np.sign(overall),0)\n",
    "    result[signs > 0] = np.amax(overall[:, signs > 0], 0)\n",
    "    result[signs < 0] = np.amin(overall[:, signs < 0], 0)\n",
    "    \n",
    "    #zArr = np.zeros(a.shape)\n",
    "    #result = np.amax(zArr, np.amin(,zArr,0),0)\n",
    "    return result   \n",
    "#-------------------------------------------------------------------------------------------\n",
    "#def fluxFn(u):\n",
    "#    return (0.5*u**2)\n",
    "\n",
    "#-------------------------------------------------------------------------------------------\n",
    "def computeLocalSpeed(u_field, fder):\n",
    "    #This changes if the above function changes\n",
    "    return np.amax(np.absolute(np.array([fder(u_field.cfVals_left), fder(u_field.cfVals_right)])),0)"
   ]
  },
  {
   "cell_type": "markdown",
   "metadata": {},
   "source": [
    "##  Zero flux fn"
   ]
  },
  {
   "cell_type": "code",
   "execution_count": 232,
   "metadata": {},
   "outputs": [
    {
     "data": {
      "image/png": "[encoded data removed]",
      "text/plain": [
       "<Figure size 432x288 with 1 Axes>"
      ]
     },
     "metadata": {
      "needs_background": "light"
     },
     "output_type": "display_data"
    }
   ],
   "source": [
    "#Domain setup\n",
    "x = domain(100, np.array([-1,1]))\n",
    "fluxFn = lambda u: np.zeros(u.shape)\n",
    "fluxFnDer = lambda u: np.zeros(u.shape)\n",
    "\n",
    "#Field setup\n",
    "u = field(x.ncells, 'periodic')\n",
    "utemp = field(x.ncells, 'periodic')\n",
    "\n",
    "#Initial conditions\n",
    "initC = lambda x: 1.0*(x < 0.5) + 1.0*(x > -0.5)\n",
    "u.setInitCond(initC, x.x_cc)\n",
    "u.updateStuff()\n",
    "\n",
    "utemp.setInitCond(initC, x.x_cc)\n",
    "utemp.updateStuff()\n",
    "\n",
    "\n",
    "plt.figure()\n",
    "t = 0.0\n",
    "tFinal = 1.0\n",
    "dt = 0.02\n",
    "plt.plot(x.x_cc, u.ccVals,'b')\n",
    "while t < tFinal:\n",
    "    #print(\"Time:\",t)\n",
    "    \n",
    "    utemp.computeFluxes(x.dx, fluxFn, fluxFnDer)\n",
    "    u.computeFluxes(x.dx, fluxFn, fluxFnDer)\n",
    "    \n",
    "    utemp.ccVals = utemp.ccVals + dt*utemp.FinalFlux\n",
    "    utemp.updateStuff()\n",
    "    utemp.computeFluxes(x.dx, fluxFn, fluxFnDer)\n",
    "    \n",
    "    u.ccVals = u.ccVals + 0.5*dt*(u.FinalFlux + utemp.FinalFlux)\n",
    "    #u.ccVals = u.ccVals + dt*(u.FinalFlux)\n",
    "    u.updateStuff()\n",
    "    utemp.cc = u.cc\n",
    "    \n",
    "    #Lax-Friedrichs scheme\n",
    "    #uLxF[1:-1] = 0.5*(uLxF[2:] + uLxF[:-2]) - 0.5*(dt/dx)*(fluxFn(uLxF[2:]) - fluxFn(uLxF[:-2]))\n",
    "    t = t + dt\n",
    "plt.plot(x.x_cc, u.ccVals,'r.-')#, x,uLxF[1:-1],'g*')\n",
    "plt.show()"
   ]
  },
  {
   "cell_type": "code",
   "execution_count": 233,
   "metadata": {},
   "outputs": [
    {
     "data": {
      "text/plain": [
       "array([0., 0., 0., 0., 0., 0., 0., 0., 0., 0., 0., 0., 0., 0., 0., 0., 0.,\n",
       "       0., 0., 0., 0., 0., 0., 0., 0., 0., 0., 0., 0., 0., 0., 0., 0., 0.,\n",
       "       0., 0., 0., 0., 0., 0., 0., 0., 0., 0., 0., 0., 0., 0., 0., 0., 0.,\n",
       "       0., 0., 0., 0., 0., 0., 0., 0., 0., 0., 0., 0., 0., 0., 0., 0., 0.,\n",
       "       0., 0., 0., 0., 0., 0., 0., 0., 0., 0., 0., 0., 0., 0., 0., 0., 0.,\n",
       "       0., 0., 0., 0., 0., 0., 0., 0., 0., 0., 0., 0., 0., 0., 0.])"
      ]
     },
     "execution_count": 233,
     "metadata": {},
     "output_type": "execute_result"
    }
   ],
   "source": [
    "u.derivative"
   ]
  },
  {
   "cell_type": "markdown",
   "metadata": {},
   "source": [
    "## Simple advection"
   ]
  },
  {
   "cell_type": "code",
   "execution_count": 326,
   "metadata": {},
   "outputs": [
    {
     "data": {
      "image/png": "[encoded data removed]",
      "text/plain": [
       "<Figure size 432x288 with 1 Axes>"
      ]
     },
     "metadata": {
      "needs_background": "light"
     },
     "output_type": "display_data"
    },
    {
     "name": "stdout",
     "output_type": "stream",
     "text": [
      "0.0014082758651848735\n"
     ]
    }
   ],
   "source": [
    "#Domain setup\n",
    "Ncells = 1280\n",
    "x = domain(Ncells, np.array([0,2*np.pi]))\n",
    "fluxFn = lambda u: u\n",
    "fluxFnDer = lambda u: np.ones(u.shape)\n",
    "\n",
    "#Field setup\n",
    "u = field(x.ncells, 'periodic')\n",
    "utemp = field(x.ncells, 'periodic')\n",
    "\n",
    "#Initial conditions\n",
    "initC = lambda x: np.sin(x)\n",
    "u.setInitCond(initC, x.x_cc)\n",
    "u.updateStuff()\n",
    "\n",
    "utemp.setInitCond(initC, x.x_cc)\n",
    "utemp.updateStuff()\n",
    "\n",
    "plt.figure()\n",
    "t = 0.0\n",
    "tFinal = 1.0\n",
    "dt = 0.0005#x.dx*0.125*np.amax(fluxFnDer(initC(x.x_cc)))\n",
    "plt.plot(x.x_cc, initC(x.x_cc - tFinal),'b')\n",
    "while t <= tFinal:\n",
    "    #print(\"Time:\",t)\n",
    "    \n",
    "    utemp.computeFluxes(x.dx, fluxFn, fluxFnDer)\n",
    "    u.computeFluxes(x.dx, fluxFn, fluxFnDer)\n",
    "    \n",
    "    utemp.ccVals = utemp.ccVals + dt*utemp.FinalFlux\n",
    "    utemp.updateStuff()\n",
    "    utemp.computeFluxes(x.dx, fluxFn, fluxFnDer)\n",
    "    \n",
    "    u.ccVals = u.ccVals + 0.5*dt*(u.FinalFlux + utemp.FinalFlux)\n",
    "    #u.ccVals = u.ccVals + dt*(u.FinalFlux)\n",
    "    u.updateStuff()\n",
    "    utemp.cc = u.cc\n",
    "    \n",
    "    #Lax-Friedrichs scheme\n",
    "    #uLxF[1:-1] = 0.5*(uLxF[2:] + uLxF[:-2]) - 0.5*(dt/dx)*(fluxFn(uLxF[2:]) - fluxFn(uLxF[:-2]))\n",
    "    t = t + dt\n",
    "plt.plot(x.x_cc, u.ccVals,'r.-')#, x,uLxF[1:-1],'g*')\n",
    "plt.show()\n",
    "print(np.linalg.norm(initC(x.x_cc - tFinal) - u.ccVals, 1)/Ncells)"
   ]
  },
  {
   "cell_type": "code",
   "execution_count": 327,
   "metadata": {},
   "outputs": [
    {
     "data": {
      "text/plain": [
       "array([0.99433509, 0.98924359, 0.98639313, 0.98466556, 0.96746462])"
      ]
     },
     "execution_count": 327,
     "metadata": {},
     "output_type": "execute_result"
    }
   ],
   "source": [
    "N = np.array([40, 80, 160, 320, 640, 1280])\n",
    "error = np.array([0.04774797771975571, 0.02326790064023887, 0.011349526753112137, 0.005522122846255559, \\\n",
    "                  0.0026656065333788494, 0.0014082758651848735])\n",
    "\n",
    "orderSlope = np.log2(1./np.diff(N))/np.log2(abs(np.diff(error)))\n",
    "orderSlope"
   ]
  },
  {
   "cell_type": "markdown",
   "metadata": {},
   "source": [
    "## Burgers equation (How do I get the exact solution?- not the expansiony expression)"
   ]
  },
  {
   "cell_type": "code",
   "execution_count": 307,
   "metadata": {},
   "outputs": [
    {
     "data": {
      "image/png": "[encoded data removed]",
      "text/plain": [
       "<Figure size 432x288 with 1 Axes>"
      ]
     },
     "metadata": {
      "needs_background": "light"
     },
     "output_type": "display_data"
    }
   ],
   "source": [
    "#Domain setup\n",
    "x = domain(101, np.array([0.0,2.0*np.pi]))\n",
    "fluxFn = lambda u: 0.5*u**2\n",
    "fluxFnDer = lambda u: u\n",
    "\n",
    "#Field setup\n",
    "u = field(x.ncells,'periodic')\n",
    "utemp = field(x.ncells,'periodic')\n",
    "\n",
    "#Initial conditions\n",
    "initC = lambda x: 0.5 + np.sin(x)#np.exp(-(x - np.pi)**2/0.8)\n",
    "u.setInitCond(initC, x.x_cc)\n",
    "u.updateStuff()\n",
    "\n",
    "utemp.setInitCond(initC, x.x_cc)\n",
    "utemp.updateStuff()\n",
    "\n",
    "\n",
    "plt.figure()\n",
    "t = 0.0\n",
    "tFinal = 2.0\n",
    "it = 0\n",
    "dt = x.dx*0.125*np.amax(fluxFnDer(initC(x.x_cc)))\n",
    "plt.plot(x.x_cc, u.ccVals,'b')\n",
    "while t <= tFinal:\n",
    "    #print(\"Time:\",t)\n",
    "    \n",
    "    utemp.computeFluxes(x.dx, fluxFn, fluxFnDer)\n",
    "    u.computeFluxes(x.dx, fluxFn, fluxFnDer)\n",
    "    \n",
    "    utemp.ccVals = utemp.ccVals + dt*utemp.FinalFlux\n",
    "    utemp.updateStuff()\n",
    "    utemp.computeFluxes(x.dx, fluxFn, fluxFnDer)\n",
    "    \n",
    "    u.ccVals = u.ccVals + 0.5*dt*(u.FinalFlux + utemp.FinalFlux)\n",
    "    #u.ccVals = u.ccVals + dt*(u.FinalFlux)\n",
    "    u.updateStuff()\n",
    "    utemp.cc = u.cc\n",
    "    \n",
    "    #Lax-Friedrichs scheme\n",
    "    #uLxF[1:-1] = 0.5*(uLxF[2:] + uLxF[:-2]) - 0.5*(dt/dx)*(fluxFn(uLxF[2:]) - fluxFn(uLxF[:-2]))\n",
    "    t = t + dt\n",
    "    it = it + 1\n",
    "    if np.mod(it, 25) < 1e-10:\n",
    "        plt.plot(x.x_cc, u.ccVals,'r.-')#, x,uLxF[1:-1],'g*')\n",
    "plt.show()"
   ]
  },
  {
   "cell_type": "markdown",
   "metadata": {},
   "source": [
    "## Non-convex flux"
   ]
  },
  {
   "cell_type": "code",
   "execution_count": 312,
   "metadata": {},
   "outputs": [
    {
     "data": {
      "image/png": "[encoded data removed]",
      "text/plain": [
       "<Figure size 432x288 with 1 Axes>"
      ]
     },
     "metadata": {
      "needs_background": "light"
     },
     "output_type": "display_data"
    }
   ],
   "source": [
    "#Domain setup\n",
    "x = domain(115, np.array([-1.0, 1.0]))\n",
    "fluxFn = lambda u: 0.25*((u**2 - 1.0)*(u**2 - 4.0))\n",
    "fluxFnDer = lambda u: 0.5*u*(2*u**2 - 5.0)\n",
    "\n",
    "#Field setup\n",
    "u = field(x.ncells,'dir')\n",
    "utemp = field(x.ncells,'dir')\n",
    "\n",
    "#Initial conditions\n",
    "initC = lambda x: 2.0*(x < 0.0) + (-2.0*(x > 0.0))\n",
    "u.setInitCond(initC, x.x_cc)\n",
    "u.setGhostCellValues(np.array([2.0,-2.0]))\n",
    "\n",
    "utemp.setInitCond(initC, x.x_cc)\n",
    "utemp.setGhostCellValues(np.array([2.0,-2.0]))\n",
    "\n",
    "\n",
    "plt.figure()\n",
    "t = 0.0\n",
    "tFinal = 0.5\n",
    "dt = 0.0001#x.dx*0.125*np.amax(fluxFnDer(initC(x.x_cc)))\n",
    "plt.plot(x.x_cc, u.ccVals,'b')\n",
    "while t < tFinal:\n",
    "    #print(\"Time:\",t)\n",
    "    \n",
    "    utemp.computeFluxes(x.dx, fluxFn, fluxFnDer)\n",
    "    u.computeFluxes(x.dx, fluxFn, fluxFnDer)\n",
    "    \n",
    "    utemp.ccVals = utemp.ccVals + dt*utemp.FinalFlux\n",
    "    utemp.updateStuff()\n",
    "    utemp.computeFluxes(x.dx, fluxFn, fluxFnDer)\n",
    "    \n",
    "    u.ccVals = u.ccVals + 0.5*dt*(u.FinalFlux + utemp.FinalFlux)\n",
    "    #u.ccVals = u.ccVals + dt*(u.FinalFlux)\n",
    "    u.updateStuff()\n",
    "    utemp.cc = u.cc\n",
    "    #print(np.linalg.norm(u.FinalFlux,np.inf))\n",
    "    #Lax-Friedrichs scheme\n",
    "    #uLxF[1:-1] = 0.5*(uLxF[2:] + uLxF[:-2]) - 0.5*(dt/dx)*(fluxFn(uLxF[2:]) - fluxFn(uLxF[:-2]))\n",
    "    t = t + dt\n",
    "    #if t > 100*dt:\n",
    "    #    break\n",
    "    #if np.mod(1./t,100.0) == 0:\n",
    "plt.plot(x.x_cc, u.ccVals,'r.-')#, x,uLxF[1:-1],'g*')\n",
    "plt.show()"
   ]
  },
  {
   "cell_type": "code",
   "execution_count": 251,
   "metadata": {},
   "outputs": [],
   "source": [
    "test = 0.5*(fluxFn(u.cfVals_right) + fluxFn(u.cfVals_left))-u.a*(u.cfVals_left-u.cfVals_right)"
   ]
  },
  {
   "cell_type": "code",
   "execution_count": 253,
   "metadata": {},
   "outputs": [
    {
     "data": {
      "text/plain": [
       "array([ 0.00000000e+00,  0.00000000e+00,  0.00000000e+00,  0.00000000e+00,\n",
       "        0.00000000e+00,  0.00000000e+00,  0.00000000e+00,  0.00000000e+00,\n",
       "        0.00000000e+00,  0.00000000e+00,  0.00000000e+00,  0.00000000e+00,\n",
       "        0.00000000e+00,  0.00000000e+00,  0.00000000e+00,  0.00000000e+00,\n",
       "        0.00000000e+00,  0.00000000e+00,  0.00000000e+00,  0.00000000e+00,\n",
       "        0.00000000e+00,  0.00000000e+00,  0.00000000e+00,  0.00000000e+00,\n",
       "        0.00000000e+00,  0.00000000e+00,  0.00000000e+00,  0.00000000e+00,\n",
       "        0.00000000e+00,  0.00000000e+00,  0.00000000e+00,  0.00000000e+00,\n",
       "        0.00000000e+00,  0.00000000e+00,  0.00000000e+00,  0.00000000e+00,\n",
       "        0.00000000e+00,  0.00000000e+00,  0.00000000e+00,  0.00000000e+00,\n",
       "        0.00000000e+00,  0.00000000e+00,  0.00000000e+00,  0.00000000e+00,\n",
       "        1.48743980e-06,  5.70958613e-03, -1.12910086e-02,  9.23562359e-01,\n",
       "        2.39147628e+01, -2.38327453e+01,  2.38327453e+01, -2.39147628e+01,\n",
       "       -9.23562359e-01,  1.12910086e-02, -5.70958613e-03, -1.48743980e-06,\n",
       "        0.00000000e+00,  0.00000000e+00,  0.00000000e+00,  0.00000000e+00,\n",
       "        0.00000000e+00,  0.00000000e+00,  0.00000000e+00,  0.00000000e+00,\n",
       "        0.00000000e+00,  0.00000000e+00,  0.00000000e+00,  0.00000000e+00,\n",
       "        0.00000000e+00,  0.00000000e+00,  0.00000000e+00,  0.00000000e+00,\n",
       "        0.00000000e+00,  0.00000000e+00,  0.00000000e+00,  0.00000000e+00,\n",
       "        0.00000000e+00,  0.00000000e+00,  0.00000000e+00,  0.00000000e+00,\n",
       "        0.00000000e+00,  0.00000000e+00,  0.00000000e+00,  0.00000000e+00,\n",
       "        0.00000000e+00,  0.00000000e+00,  0.00000000e+00,  0.00000000e+00,\n",
       "        0.00000000e+00,  0.00000000e+00,  0.00000000e+00,  0.00000000e+00,\n",
       "        0.00000000e+00,  0.00000000e+00,  0.00000000e+00,  0.00000000e+00,\n",
       "        0.00000000e+00,  0.00000000e+00,  0.00000000e+00,  0.00000000e+00])"
      ]
     },
     "execution_count": 253,
     "metadata": {},
     "output_type": "execute_result"
    }
   ],
   "source": [
    "test[1:] - test[:-1]"
   ]
  },
  {
   "cell_type": "code",
   "execution_count": null,
   "metadata": {},
   "outputs": [],
   "source": []
  }
 ],
 "metadata": {
  "kernelspec": {
   "display_name": "Python 3",
   "language": "python",
   "name": "python3"
  },
  "language_info": {
   "codemirror_mode": {
    "name": "ipython",
    "version": 3
   },
   "file_extension": ".py",
   "mimetype": "text/x-python",
   "name": "python",
   "nbconvert_exporter": "python",
   "pygments_lexer": "ipython3",
   "version": "3.7.3"
  }
 },
 "nbformat": 4,
 "nbformat_minor": 2
}
